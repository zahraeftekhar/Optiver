{
 "cells": [
  {
   "cell_type": "markdown",
   "metadata": {},
   "source": [
    "# Graduate Quantitative Researcher Puzzle "
   ]
  },
  {
   "cell_type": "markdown",
   "metadata": {},
   "source": [
    "### adding packages:"
   ]
  },
  {
   "cell_type": "code",
   "execution_count": 1,
   "metadata": {},
   "outputs": [],
   "source": [
    "import pandas as pd\n",
    "import numpy as np\n",
    "import random\n",
    "from matplotlib import pyplot as plt\n",
    "import math"
   ]
  },
  {
   "cell_type": "markdown",
   "metadata": {},
   "source": [
    "An ant leaves its anthill in order to forage for food. It moves with the __speed of 10cm per second__ , but it doesn't know where to go, therefore __every second it moves randomly 10cm__ directly north, south, east or west with equal probability.\n",
    "\n",
    "1) If the food is located on __east-west lines 20cm to the north and 20cm to the south__, as well as on __north-south lines 20cm to the east and 20cm to the west__ from the anthill, how long will it take the ant to reach it on average?\n"
   ]
  },
  {
   "cell_type": "code",
   "execution_count": 3,
   "metadata": {},
   "outputs": [],
   "source": [
    "def one_step(current_location): # defining the step function\n",
    "    moveE = [10,0] # east move\n",
    "    moveW = [-10,0] # west move\n",
    "    moveN = [0,10] #north move\n",
    "    moveS= [0,-10] # south move\n",
    "    move = random.choice([moveE,moveW, moveN, moveS]) #randomly choosing one of the north, south, east, or west movements\n",
    "    new_location = [x + y for (x, y) in zip(current_location, move)] #updating the location after one random step\n",
    "    return new_location"
   ]
  },
  {
   "cell_type": "code",
   "execution_count": 4,
   "metadata": {},
   "outputs": [
    {
     "name": "stdout",
     "output_type": "stream",
     "text": [
      "Average travel time to food is converging to 4.5 seconds\n"
     ]
    }
   ],
   "source": [
    "travel_times = [] #travel time (i.e., number_of_steps * 10cm/sec) to food\n",
    "n=100000 #number of simulations\n",
    "for i in np.arange(n):\n",
    "    location = [0,0]\n",
    "    steps = 0 #shows the number of steps to get to food\n",
    "    while (abs(location[0])<20) & (abs(location[1])<20): # checking if the ant has reached the food after the previous step\n",
    "        location = one_step(location)\n",
    "        steps+=1 #counting the number of steps which is the indicator of travel time because each step takes 1 second\n",
    "    else: \n",
    "        travel_times += [steps] #recording the travel time for this simulation\n",
    "\n",
    "print('Average travel time to food is converging to {} seconds'.format(round(10*np.mean(travel_times))/10))"
   ]
  },
  {
   "cell_type": "code",
   "execution_count": 5,
   "metadata": {},
   "outputs": [
    {
     "data": {
      "image/png": "[encoded data removed]",
      "text/plain": [
       "<Figure size 432x288 with 1 Axes>"
      ]
     },
     "metadata": {
      "needs_background": "light"
     },
     "output_type": "display_data"
    }
   ],
   "source": [
    "bins = np.linspace(math.ceil(min(travel_times)), \n",
    "                   math.floor(max(travel_times)),\n",
    "                   20) # fixed number of bins\n",
    "\n",
    "plt.xlim([min(travel_times), max(travel_times)])\n",
    "\n",
    "plt.hist(travel_times, bins=bins, alpha=0.5) # plotting the histogram of travle times with 20 bins (i.e., intervals)\n",
    "plt.title('Distribution of time to get to food')\n",
    "plt.xlabel('time to get to food (20 evenly spaced bins)')\n",
    "plt.ylabel('count')\n",
    "\n",
    "plt.show()"
   ]
  },
  {
   "cell_type": "markdown",
   "metadata": {},
   "source": [
    "2) What is the average time the ant will reach food if it is located only on a __diagonal line passing through (10cm, 0cm) and (0cm, 10cm) points__? \n",
    "\n",
    "This means that the food is located on the line: Y=-X+10, This means that once Y+X-10>=0 the ant has reached the food. The plot of this line is displayed below. As we do not have a closed boundary, there is also a possibility that the ant does not reach food at all. Therefore, the travel time does not converge. \n"
   ]
  },
  {
   "cell_type": "code",
   "execution_count": 6,
   "metadata": {},
   "outputs": [
    {
     "name": "stdout",
     "output_type": "stream",
     "text": [
      "Average travel time to food is 38 seconds for when number of simulation is 100\n",
      "Average travel time to food is 2110 seconds for when number of simulation is 150\n",
      "Average travel time to food is 50 seconds for when number of simulation is 200\n",
      "Average travel time to food is 454 seconds for when number of simulation is 250\n"
     ]
    },
    {
     "data": {
      "image/png": "[encoded data removed]",
      "text/plain": [
       "<Figure size 432x288 with 1 Axes>"
      ]
     },
     "metadata": {
      "needs_background": "light"
     },
     "output_type": "display_data"
    }
   ],
   "source": [
    "x= np.linspace(-40,40,1000)\n",
    "y= -x+10\n",
    "x1=[0,0]\n",
    "y1=[40,-40]\n",
    "plt.plot(x1,y1, color='green', linestyle='dashed')\n",
    "x2=[40,-40]\n",
    "y2=[0,0]\n",
    "plt.plot(x2,y2, color='green', linestyle='dashed')\n",
    "plt.plot(x,y)\n",
    "plt.xlim(-40,40)\n",
    "plt.ylim(-40,40)\n",
    "for n in [100,150,200,250]:\n",
    "    travel_times = []\n",
    "    for i in np.arange(n):\n",
    "        location = [0,0]\n",
    "        steps = 0 #shows the number of steps to get to food\n",
    "        while (location[0]+location[1]-10<0):\n",
    "            location = one_step(location)\n",
    "            steps+=1\n",
    "        else: travel_times += [steps]\n",
    "\n",
    "    print('Average travel time to food is {} seconds for when number of simulation is {}'.format(round(np.mean(travel_times)),n))"
   ]
  },
  {
   "cell_type": "markdown",
   "metadata": {},
   "source": [
    "The above average travel times are determined using different number of simulations. Accordingly, the average travel time does not have limit (i.e., does not converge). \n",
    "___________________________\n",
    "3) Can you write a program that comes up with an estimate of average time to find food for any __closed boundary around the anthill__? What would be the answer if food is located outside an defined by ( (x – 2.5cm) / 30cm )2 + ( (y – 2.5cm) / 40cm )2 < 1 in coordinate system where the anthill is located at (x = 0cm, y = 0cm)? Provide us with a solution rounded to the nearest integer.\n"
   ]
  },
  {
   "cell_type": "code",
   "execution_count": 7,
   "metadata": {},
   "outputs": [
    {
     "name": "stdout",
     "output_type": "stream",
     "text": [
      "Average travel time to food is converging to 14 seconds\n"
     ]
    }
   ],
   "source": [
    "travel_times = [] #travel time (i.e., number_of_steps * 10cm/sec) to food\n",
    "n=10000 #number of simulations\n",
    "for i in np.arange(n):\n",
    "    location = [0,0]\n",
    "    steps = 0 #shows the number of steps to get to food\n",
    "    while (((location[0]-2.5)/30)**2+((location[1]-2.5)/40)**2<1): # here we define our closed boundary\n",
    "        location = one_step(location)\n",
    "        steps+=1\n",
    "    else: \n",
    "        travel_times += [steps]\n",
    "\n",
    "print('Average travel time to food is converging to {} seconds'.format(round(np.mean(travel_times))))"
   ]
  },
  {
   "cell_type": "code",
   "execution_count": 8,
   "metadata": {},
   "outputs": [
    {
     "data": {
      "image/png": "[encoded data removed]",
      "text/plain": [
       "<Figure size 432x288 with 1 Axes>"
      ]
     },
     "metadata": {
      "needs_background": "light"
     },
     "output_type": "display_data"
    }
   ],
   "source": [
    "bins = np.linspace(math.ceil(min(travel_times)), \n",
    "                   math.floor(max(travel_times)),\n",
    "                   20) # fixed number of bins\n",
    "\n",
    "plt.xlim([min(travel_times), max(travel_times)])\n",
    "\n",
    "plt.hist(travel_times, bins=bins, alpha=0.5)\n",
    "plt.title('Histogram of time to get to food')\n",
    "plt.xlabel('time to get to food (20 evenly spaced bins)')\n",
    "plt.ylabel('count')\n",
    "\n",
    "plt.show()"
   ]
  }
 ],
 "metadata": {
  "kernelspec": {
   "display_name": "Python 3.8.12 ('ODmatrices')",
   "language": "python",
   "name": "python3"
  },
  "language_info": {
   "codemirror_mode": {
    "name": "ipython",
    "version": 3
   },
   "file_extension": ".py",
   "mimetype": "text/x-python",
   "name": "python",
   "nbconvert_exporter": "python",
   "pygments_lexer": "ipython3",
   "version": "3.8.12"
  },
  "orig_nbformat": 4,
  "vscode": {
   "interpreter": {
    "hash": "e9e9c2e58f8a7c5a5ffa256c97b13a2fac43afb9bf248ecd7861bc2948606924"
   }
  }
 },
 "nbformat": 4,
 "nbformat_minor": 2
}
